{
 "cells": [
  {
   "cell_type": "code",
   "execution_count": 15,
   "metadata": {},
   "outputs": [],
   "source": [
    "import pandas as pd\n",
    "import numpy as np \n",
    "import matplotlib.pyplot as plt\n",
    "import seaborn as sns\n",
    "import os\n",
    "import sys\n",
    "import fitz\n",
    "import PyPDF2\n",
    "\n",
    "if os.path.abspath('../') not in sys.path:\n",
    "    sys.path.insert(0, os.path.abspath('../'))"
   ]
  },
  {
   "cell_type": "markdown",
   "metadata": {},
   "source": [
    "#### Features to use : \n",
    "- Index of industrial production (%)\n",
    "- Production of wood (Thous. m3)\n",
    "- Poultry population (Mill. heads) (so suc vat trong nuoc suc vat)\n",
    "- Livestock population (Thous. heads)\n",
    "- Number of farms\n",
    "- Production of cereals (Thous. tons)\n",
    "- ENTERPRISE,COOPERATIVE AND NON-FARM INDIVIDUAL BUSINESS ESTABLISHMENT\n",
    "- Area of floors of residential buildings constructed in the year by types of house (Thous. m2)\n",
    "- Investment at current prices (Bill. dongs)\n",
    "- Structure of investment at current prices (%)\n",
    "- Expenditure on social and economic services\n",
    "- STRUCTURE OF GRDP AT CURRENT PRICES (%)\n",
    "- POPULATION DENSITY (Person/km2)\n",
    "- POPULATION (Thous. pers.)\n",
    "- AREA OF LAND (Thous. ha) "
   ]
  },
  {
   "cell_type": "code",
   "execution_count": 29,
   "metadata": {},
   "outputs": [],
   "source": [
    "features = [\n",
    "    \"Index of industrial production (%)\",\n",
    "    \"Production of wood (Thous. m3)\",\n",
    "    \"Poultry population (Mill. heads) (so suc vat trong nuoc suc vat)\",\n",
    "    \"Livestock population (Thous. heads)\",\n",
    "    \"Number of farms\",\n",
    "    \"Production of cereals (Thous. tons)\",\n",
    "    \"ENTERPRISE, COOPERATIVE AND NON-FARM INDIVIDUAL BUSINESS ESTABLISHMENT\",\n",
    "    \"Area of floors of residential buildings constructed in the year by types of house (Thous. m2)\",\n",
    "    \"Investment at current prices (Bill. dongs)\",\n",
    "    \"Structure of investment at current prices (%)\",\n",
    "    \"Expenditure on social and economic services\",\n",
    "    \"STRUCTURE OF GRDP AT CURRENT PRICES (%)\",\n",
    "    \"POPULATION DENSITY (Person/km2)\",\n",
    "    \"POPULATION (Thous. pers.)\",\n",
    "    \"AREA OF LAND (Thous. ha)\"\n",
    "]\n",
    "\n",
    "econpdf = '../data/socio-economic-data-of-63-provinces-and-centrally-run-cities-2015-2021.pdf'\n",
    "\n",
    "# Function to extract features pages and save them to the output folder\n",
    "def extract_pages_and_save(pdf_path, features):\n",
    "    doc = fitz.open(pdf_path)\n",
    "\n",
    "    output_folder = '../data/output'\n",
    "    os.makedirs(output_folder, exist_ok=True)\n",
    "\n",
    "    # loop qua pages tim features\n",
    "    for page_num in range(len(doc)):\n",
    "        page = doc[page_num]\n",
    "        page_text = page.get_text()\n",
    "        \n",
    "        # check pages which contains features \n",
    "        if any(feature in page_text for feature in features):\n",
    "            # Save to the output folder\n",
    "            output_file = os.path.join(output_folder, f'page_{page_num + 1}.pdf')\n",
    "            new_doc = fitz.open()\n",
    "            new_doc.insert_pdf(doc, from_page=page_num, to_page=page_num)\n",
    "            new_doc.save(output_file)\n",
    "            new_doc.close()\n",
    "\n",
    "    doc.close()\n",
    "# call function thu cai \n",
    "extract_pages_and_save(econpdf, features)\n"
   ]
  },
  {
   "cell_type": "code",
   "execution_count": 24,
   "metadata": {},
   "outputs": [],
   "source": [
    "\n",
    "# def read_large_pdf(file_path):\n",
    "#     pdf_document = fitz.open(file_path)\n",
    "\n",
    "#     for page_number in range(pdf_document.page_count):\n",
    "#         page = pdf_document[page_number]\n",
    "#         text = page.get_text()\n",
    "#         # Process the text or perform other operations as needed\n",
    "#         print(f\"Page {page_number + 1}: {text[:100]}...\")  # Print the first 100 characters of each page\n",
    "\n",
    "#     pdf_document.close()\n",
    "\n",
    "# # open the pdf file\n",
    "# econ_pdf = \"../data/socio-economic-data-of-63-provinces-and-centrally-run-cities-2015-2021.pdf\"\n",
    "# read_large_pdf(econ_pdf)\n"
   ]
  },
  {
   "cell_type": "code",
   "execution_count": 25,
   "metadata": {},
   "outputs": [],
   "source": [
    "# def remove_pages(input_path, output_path, start_page, end_page):\n",
    "#     with open(input_path, 'rb') as file:\n",
    "#         pdf_reader = PyPDF2.PdfReader(file)\n",
    "#         pdf_writer = PyPDF2.PdfWriter()\n",
    "\n",
    "#         for page_number in range(len(pdf_reader.pages)):\n",
    "#             if start_page <= page_number + 1 <= end_page:\n",
    "#                 continue\n",
    "#             pdf_writer.add_page(pdf_reader.pages[page_number])\n",
    "\n",
    "#         with open(output_path, 'wb') as output_file:\n",
    "#             pdf_writer.write(output_file)\n",
    "\n",
    "# # Example usage: remove pages 1 to 1052\n",
    "# remove_pages('../data/socio-economic-data-of-63-provinces-and-centrally-run-cities-2015-2021.pdf', '../data/econ_reduced.pdf', 1, 1052)\n"
   ]
  },
  {
   "cell_type": "code",
   "execution_count": null,
   "metadata": {},
   "outputs": [],
   "source": []
  }
 ],
 "metadata": {
  "kernelspec": {
   "display_name": "base",
   "language": "python",
   "name": "python3"
  },
  "language_info": {
   "codemirror_mode": {
    "name": "ipython",
    "version": 3
   },
   "file_extension": ".py",
   "mimetype": "text/x-python",
   "name": "python",
   "nbconvert_exporter": "python",
   "pygments_lexer": "ipython3",
   "version": "3.10.11"
  }
 },
 "nbformat": 4,
 "nbformat_minor": 2
}

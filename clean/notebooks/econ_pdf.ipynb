{
 "cells": [
  {
   "cell_type": "code",
   "execution_count": 2,
   "metadata": {},
   "outputs": [],
   "source": [
    "import pandas as pd\n",
    "import numpy as np \n",
    "import matplotlib.pyplot as plt\n",
    "import seaborn as sns\n",
    "import os\n",
    "import sys\n",
    "import fitz\n",
    "import PyPDF2\n",
    "import jpype\n",
    "\n",
    "if os.path.abspath('../') not in sys.path:\n",
    "    sys.path.insert(0, os.path.abspath('../'))"
   ]
  },
  {
   "cell_type": "markdown",
   "metadata": {},
   "source": [
    "#### Features to use : \n",
    "- Index of industrial production (%)\n",
    "- Production of wood (Thous. m3)\n",
    "- Poultry population (Mill. heads) (so suc vat trong nuoc suc vat)\n",
    "- Livestock population (Thous. heads)\n",
    "- Number of farms\n",
    "- Production of cereals (Thous. tons)\n",
    "- ENTERPRISE,COOPERATIVE AND NON-FARM INDIVIDUAL BUSINESS ESTABLISHMENT\n",
    "- Area of floors of residential buildings constructed in the year by types of house (Thous. m2)\n",
    "- Investment at current prices (Bill. dongs)\n",
    "- Structure of investment at current prices (%)\n",
    "- Expenditure on social and economic services\n",
    "- STRUCTURE OF GRDP AT CURRENT PRICES (%)\n",
    "- POPULATION DENSITY (Person/km2)\n",
    "- POPULATION (Thous. pers.)\n",
    "- AREA OF LAND (Thous. ha) "
   ]
  },
  {
   "cell_type": "code",
   "execution_count": 2,
   "metadata": {},
   "outputs": [],
   "source": [
    "# replace by your installation java path \n",
    "econ_input = '../data/socio-economic-data-of-63-provinces-and-centrally-run-cities-2015-2021.pdf'\n",
    "econ_output = '../data/Vietcon-extracted-pages'\n",
    "output_csv = '../data/Viecon_data.csv'\n",
    "features = [\n",
    "    \"Index of industrial production (%)\",\n",
    "    \"Production of wood (Thous. m3)\",\n",
    "    \"Poultry population (Mill. heads) (so suc vat trong nuoc suc vat)\",\n",
    "    \"Livestock population (Thous. heads)\",\n",
    "    \"Number of farms\",\n",
    "    \"Production of cereals (Thous. tons)\",\n",
    "    \"ENTERPRISE, COOPERATIVE AND NON-FARM INDIVIDUAL BUSINESS ESTABLISHMENT\",\n",
    "    \"Area of floors of residential buildings constructed in the year by types of house (Thous. m2)\",\n",
    "    \"Investment at current prices (Bill. dongs)\",\n",
    "    \"Structure of investment at current prices (%)\",\n",
    "    \"Expenditure on social and economic services\",\n",
    "    \"STRUCTURE OF GRDP AT CURRENT PRICES (%)\",\n",
    "    \"POPULATION DENSITY (Person/km2)\",\n",
    "    \"POPULATION (Thous. pers.)\",\n",
    "    \"AREA OF LAND (Thous. ha)\"\n",
    "]"
   ]
  },
  {
   "cell_type": "code",
   "execution_count": 3,
   "metadata": {},
   "outputs": [],
   "source": [
    "def extract_pages_with_features(econ_input, features, econ_output):\n",
    "    econ_raw = fitz.open(econ_input)\n",
    "\n",
    "    # Loop through each page in the PDF\n",
    "    for i in range(econ_raw.page_count):\n",
    "        page = econ_raw[i]\n",
    "        text = page.get_text(\"text\")\n",
    "\n",
    "        # Check if any of the features are present in the text\n",
    "        if any(feature.lower() in text.lower() for feature in features):\n",
    "            # Save selected text to new text files\n",
    "            output_folder = os.path.join(econ_output, f\"output_page_{i + 1}\")\n",
    "            os.makedirs(output_folder, exist_ok=True)\n",
    "            with open(os.path.join(output_folder, \"output.txt\"), \"w\", encoding=\"utf-8\") as file:\n",
    "                file.write(text)\n",
    "\n",
    "    econ_raw.close()\n",
    "    \n",
    "    \n",
    "def extract_rows(econ_output, features):\n",
    "    # Create a DataFrame to store the extracted data\n",
    "    data = pd.DataFrame()\n",
    "\n",
    "    # Loop around text files in the output folder\n",
    "    for text_file in os.listdir(econ_output):\n",
    "        if text_file.endswith(\".txt\"):\n",
    "            text_path = os.path.join(econ_output, text_file)\n",
    "            with open(text_path, \"r\", encoding=\"utf-8\") as file:\n",
    "                text = file.read()\n",
    "\n",
    "                # Check for rows containing specified features\n",
    "                rows = []\n",
    "                for line in text.split('\\n'):\n",
    "                    if any(feature.lower() in line.lower() for feature in features):\n",
    "                        rows.append(line)\n",
    "\n",
    "                if rows:\n",
    "                    # Append rows to DataFrame\n",
    "                    rows_df = pd.DataFrame([row.split() for row in rows])\n",
    "                    data = pd.concat([data, rows_df], ignore_index=True)\n",
    "\n",
    "    return data\n"
   ]
  },
  {
   "cell_type": "code",
   "execution_count": 5,
   "metadata": {},
   "outputs": [],
   "source": [
    "extract_pages_with_features(econ_input, features, econ_output)\n",
    "extracted_data = extract_rows(econ_output, features)\n",
    "extracted_data.to_csv(output_csv, index=False)\n"
   ]
  },
  {
   "cell_type": "code",
   "execution_count": null,
   "metadata": {},
   "outputs": [],
   "source": [
    "\n",
    "# def read_large_pdf(file_path):\n",
    "#     pdf_document = fitz.open(file_path)\n",
    "\n",
    "#     for page_number in range(pdf_document.page_count):\n",
    "#         page = pdf_document[page_number]\n",
    "#         text = page.get_text()\n",
    "#         # Process the text or perform other operations as needed\n",
    "#         print(f\"Page {page_number + 1}: {text[:100]}...\")  # Print the first 100 characters of each page\n",
    "\n",
    "#     pdf_document.close()\n",
    "\n",
    "# # open the pdf file\n",
    "# econ_pdf = \"../data/socio-economic-data-of-63-provinces-and-centrally-run-cities-2015-2021.pdf\"\n",
    "# read_large_pdf(econ_pdf)\n"
   ]
  },
  {
   "cell_type": "code",
   "execution_count": null,
   "metadata": {},
   "outputs": [],
   "source": []
  }
 ],
 "metadata": {
  "kernelspec": {
   "display_name": "base",
   "language": "python",
   "name": "python3"
  },
  "language_info": {
   "codemirror_mode": {
    "name": "ipython",
    "version": 3
   },
   "file_extension": ".py",
   "mimetype": "text/x-python",
   "name": "python",
   "nbconvert_exporter": "python",
   "pygments_lexer": "ipython3",
   "version": "3.10.11"
  }
 },
 "nbformat": 4,
 "nbformat_minor": 2
}

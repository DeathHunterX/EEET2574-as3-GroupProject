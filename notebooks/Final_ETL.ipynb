{
 "cells": [
  {
   "cell_type": "code",
   "execution_count": null,
   "metadata": {},
   "outputs": [],
   "source": [
    "import numpy as np\n",
    "import matplotlib.pyplot as plt\n",
    "import seaborn as sns\n",
    "import pandas as pd\n",
    "import pymongo\n",
    "import os ,sys \n",
    "from sklearn.preprocessing import LabelEncoder\n",
    "\n",
    "if os.path.abspath('../') not in sys.path:\n",
    "    sys.path.insert(0, os.path.abspath('../'))"
   ]
  },
  {
   "cell_type": "code",
   "execution_count": null,
   "metadata": {},
   "outputs": [],
   "source": [
    "def connect_to_mongodb(database_username, database_password, database_cluster_name, database_name):\n",
    "    connection_string = f\"mongodb+srv://{database_username}:{database_password}@{database_cluster_name}/?retryWrites=true&w=majority\"\n",
    "    client = pymongo.MongoClient(connection_string)\n",
    "    \n",
    "    # Check if the connection was successful\n",
    "    if client.server_info():\n",
    "        print(\"Connected to MongoDB successfully!\")\n",
    "\n",
    "    db = client[database_name]\n",
    "    return db\n",
    "\n",
    "def fetch_data_from_mongodb(db, collection_name):\n",
    "    collection = db[collection_name]\n",
    "    cursor = collection.find({})\n",
    "    data_list = list(cursor)\n",
    "    return pd.DataFrame(data_list)\n"
   ]
  },
  {
   "cell_type": "code",
   "execution_count": null,
   "metadata": {},
   "outputs": [],
   "source": [
    "def clean_data(vndata):\n",
    "    if any(vndata.index.duplicated()):\n",
    "        vndata = vndata[~vndata.index.duplicated(keep='first')]\n",
    "\n",
    "    vndata = vndata.loc[:, ~vndata.columns.duplicated(keep='first')]\n",
    "    vndata = vndata.drop(['_id'], axis=1)\n",
    "    \n",
    "    vndata.rename(columns={'AREA OF LAND (Thous. ha)': 'AREA OF LAND',\n",
    "                           'POPULATION (Thous. pers.)': 'Population',\n",
    "                           'POPULATION DENSITY (Person/km2)': 'population density',\n",
    "                           'At current prices (Bill. dongs)': 'GROSS REGIONAL DOMESTIC PRODUCT',\n",
    "                           'State budget revenue (Bill. dongs)': 'STATE BUDGET REVENUE',\n",
    "                           'State budget expenditure (Bill. dongs)': 'STATE BUDGET EXPENDITURE',\n",
    "                           'Investment at current prices (Bill. dongs)': 'INVESTMENT AT CURRENT PRICES',\n",
    "                           'Number of farms': 'NUMBER OF FARM',\n",
    "                           'Planted area of cereals (Thous. ha)': 'PLANTED AREA OF CEREALS',\n",
    "                           'Production of fishery (Ton)': 'PRODUCTION OF FISHERY',\n",
    "                           'Index of industrial production (%)': 'INDEX OF INDUSTRIAL PRODUCTION',\n",
    "                           'Retail sales of goods at current prices (Bill. dongs)': 'RETAIL SALES OF GOODS',\n",
    "                           'Number of schools (School)': 'NUMBER OF SCHOOLS',\n",
    "                           'Number of medical establishments (Esta.)': 'NUMBER OF MEDICAL ESTABLISHMENTS',\n",
    "                           'carbon_gross_emissions': 'CARBON GROSS EMISSIONS',\n",
    "                           'tc_loss_ha': 'TROPICAL FOREST LOSS',\n",
    "                           'FEELS_LIKE': 'FEELS LIKE',\n",
    "                           'TEMP_MIN': 'TEMP MIN',\n",
    "                           'TEMP_MAX': 'TEMP MAX'}, inplace=True)\n",
    "\n",
    "    vndata.columns = vndata.columns.str.upper()\n",
    "    return vndata"
   ]
  },
  {
   "cell_type": "code",
   "execution_count": null,
   "metadata": {},
   "outputs": [],
   "source": [
    "def fill_missing_values(vndata):\n",
    "    columns_to_fill = ['AREA OF LAND', 'POPULATION DENSITY', 'GROSS REGIONAL DOMESTIC PRODUCT',\n",
    "                        'STATE BUDGET REVENUE', 'STATE BUDGET EXPENDITURE', 'NUMBER OF FARM',\n",
    "                        'RETAIL SALES OF GOODS', 'NUMBER OF SCHOOLS']\n",
    "\n",
    "    mean_values_by_province = vndata.groupby('PROVINCE')[columns_to_fill].mean()\n",
    "\n",
    "    for col in columns_to_fill:\n",
    "        vndata[col] = vndata.apply(\n",
    "            lambda row: row[col] if pd.notnull(row[col]) else mean_values_by_province.loc[row['PROVINCE'], col], axis=1)\n",
    "\n",
    "    vndata['RETAIL SALES OF GOODS'].fillna(vndata['RETAIL SALES OF GOODS'].mean(), inplace=True)\n",
    "\n",
    "    return vndata\n"
   ]
  },
  {
   "cell_type": "code",
   "execution_count": null,
   "metadata": {},
   "outputs": [],
   "source": [
    "def encode_categorical_column(vndata):\n",
    "    categorical = vndata['DESCRIPTION']\n",
    "    le = LabelEncoder()\n",
    "    categorical = pd.DataFrame(le.fit_transform(categorical), columns=['DESCRIPTION'])\n",
    "    vndata = pd.concat([vndata, categorical], axis=1)\n",
    "\n",
    "    return vndata\n",
    "\n",
    "def handle_outliers_iqr(vn_feature):\n",
    "    for col in vn_feature.columns:\n",
    "        z_scores = np.abs((vn_feature[col] - vn_feature[col].mean()) / vn_feature[col].std())\n",
    "        total_outliers = len(vn_feature[z_scores > 3])\n",
    "        print(f\"Total outliers in '{col}': {total_outliers}\")\n",
    "\n",
    "    def handle_outliers_iqr(column):\n",
    "        Q1 = column.quantile(0.25)\n",
    "        Q3 = column.quantile(0.75)\n",
    "        IQR = Q3 - Q1\n",
    "        lower_bound = Q1 - 1.5 * IQR\n",
    "        upper_bound = Q3 + 1.5 * IQR\n",
    "        column_copy = column.copy()\n",
    "        column_copy.loc[column < lower_bound] = lower_bound\n",
    "        column_copy.loc[column > upper_bound] = upper_bound\n",
    "        return column_copy\n",
    "\n",
    "    vn_features_copy = vn_feature.copy()\n",
    "\n",
    "    for col in vn_features_copy.columns:\n",
    "        vn_features_copy[col] = handle_outliers_iqr(vn_features_copy[col])\n",
    "\n",
    "    return vn_features_copy\n"
   ]
  }
 ],
 "metadata": {
  "kernelspec": {
   "display_name": "Python 3",
   "language": "python",
   "name": "python3"
  },
  "language_info": {
   "codemirror_mode": {
    "name": "ipython",
    "version": 3
   },
   "file_extension": ".py",
   "mimetype": "text/x-python",
   "name": "python",
   "nbconvert_exporter": "python",
   "pygments_lexer": "ipython3",
   "version": "3.10.11"
  }
 },
 "nbformat": 4,
 "nbformat_minor": 2
}
